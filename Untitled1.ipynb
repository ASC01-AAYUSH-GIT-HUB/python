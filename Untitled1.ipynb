{
 "cells": [
  {
   "cell_type": "code",
   "execution_count": 4,
   "id": "6bf2316a-3506-464f-8177-72623c54fcfe",
   "metadata": {},
   "outputs": [
    {
     "name": "stdout",
     "output_type": "stream",
     "text": [
      "this is student class with data\n"
     ]
    }
   ],
   "source": [
    "class student:\n",
    "    \"\"\"this is student class with data\"\"\"\n",
    "print(student.__doc__)"
   ]
  },
  {
   "cell_type": "code",
   "execution_count": 9,
   "id": "ba0c2bf7-d799-49e8-ba33-c90182855248",
   "metadata": {},
   "outputs": [
    {
     "name": "stdout",
     "output_type": "stream",
     "text": [
      "hello Ram, nice to meet you, your age is 21 and got 99 marks\n"
     ]
    }
   ],
   "source": [
    "class Student:\n",
    "    \"\"\"this is the opps for app development\"\"\"\n",
    "    def __init__(self,name,age,marks):# __init__ is the constructor in the python for class\n",
    "        self.name=name\n",
    "        self.age=age\n",
    "        self.marks=marks\n",
    "    def m1(self,roll):\n",
    "        self.roll=roll\n",
    "\n",
    "    def talk(self):\n",
    "        print(f\"hello {self.name}, nice to meet you, your age is {self.age} and got {self.marks} marks\")\n",
    "\n",
    "s=Student(\"Ram\",21,99)\n",
    "s.m1(2)\n",
    "s.talk()\n",
    "\n",
    "        "
   ]
  },
  {
   "cell_type": "code",
   "execution_count": 10,
   "id": "e2ac3679-7085-4b7c-ac63-b172ca4bd6a5",
   "metadata": {},
   "outputs": [
    {
     "name": "stdout",
     "output_type": "stream",
     "text": [
      "{'name': 'Ram', 'age': 21, 'marks': 99, 'roll': 2}\n"
     ]
    }
   ],
   "source": [
    "print(s.__dict__)"
   ]
  },
  {
   "cell_type": "code",
   "execution_count": 15,
   "id": "de6a56b7-13cb-4f0c-8654-a93880649fa0",
   "metadata": {},
   "outputs": [
    {
     "name": "stdout",
     "output_type": "stream",
     "text": [
      "10 20\n",
      "10 20\n",
      "123 123\n"
     ]
    }
   ],
   "source": [
    "class test:\n",
    "    x=10\n",
    "    def __init__(self):\n",
    "        self.y=20\n",
    "t1=test()\n",
    "t2=test()\n",
    "print(t1.x,t1.y)\n",
    "print(t2.x,t2.y)\n",
    "test.x=123\n",
    "print(t2.x,t1.x)"
   ]
  },
  {
   "cell_type": "code",
   "execution_count": null,
   "id": "8e002462-7fd4-45e1-ae5e-7042a89ab912",
   "metadata": {},
   "outputs": [],
   "source": [
    "class a:\n",
    "    def __init__(self,a):\n",
    "        "
   ]
  }
 ],
 "metadata": {
  "kernelspec": {
   "display_name": "Python [conda env:base] *",
   "language": "python",
   "name": "conda-base-py"
  },
  "language_info": {
   "codemirror_mode": {
    "name": "ipython",
    "version": 3
   },
   "file_extension": ".py",
   "mimetype": "text/x-python",
   "name": "python",
   "nbconvert_exporter": "python",
   "pygments_lexer": "ipython3",
   "version": "3.13.5"
  }
 },
 "nbformat": 4,
 "nbformat_minor": 5
}
