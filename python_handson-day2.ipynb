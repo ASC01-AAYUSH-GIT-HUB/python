{
 "cells": [
  {
   "cell_type": "code",
   "execution_count": 1,
   "id": "34e5d752-f06a-4244-864e-954c900e972a",
   "metadata": {},
   "outputs": [
    {
     "name": "stdin",
     "output_type": "stream",
     "text": [
      "write your name aayush\n"
     ]
    },
    {
     "name": "stdout",
     "output_type": "stream",
     "text": [
      "welcome aayush to our city\n"
     ]
    }
   ],
   "source": [
    "def greeting(name):\n",
    "    print(f\"welcome {name} to our city\")\n",
    "\n",
    "name=input(\"write your name\")\n",
    "greeting(name)"
   ]
  },
  {
   "cell_type": "code",
   "execution_count": 9,
   "id": "0443c190-983a-4f90-bacf-413da272e7c9",
   "metadata": {},
   "outputs": [],
   "source": [
    "def sqre_fun(num):\n",
    "    print(num*num)"
   ]
  },
  {
   "cell_type": "code",
   "execution_count": 11,
   "id": "d37db843-3223-47f0-a6e7-6fd9f26c0bc5",
   "metadata": {},
   "outputs": [
    {
     "name": "stdout",
     "output_type": "stream",
     "text": [
      "441\n",
      "9\n"
     ]
    }
   ],
   "source": [
    "sqre_fun(21)\n",
    "sqre_fun(3)"
   ]
  },
  {
   "cell_type": "code",
   "execution_count": 12,
   "id": "cc5e793b-7226-414b-a147-1652db54a577",
   "metadata": {},
   "outputs": [],
   "source": [
    "def even_find(num):\n",
    "    if num%2==0:\n",
    "        return True\n",
    "    else:\n",
    "        return False"
   ]
  },
  {
   "cell_type": "code",
   "execution_count": 13,
   "id": "f8ecb5c1-4d55-4b4c-b856-43a14a322353",
   "metadata": {},
   "outputs": [
    {
     "name": "stdout",
     "output_type": "stream",
     "text": [
      "True False\n"
     ]
    }
   ],
   "source": [
    "print(even_find(12),even_find(11))"
   ]
  },
  {
   "cell_type": "code",
   "execution_count": 22,
   "id": "eeab95e3-dd5b-4162-8769-ae6d9a7e3eff",
   "metadata": {},
   "outputs": [],
   "source": [
    "def fact(num):\n",
    "    if num>=0:    \n",
    "        if num==0 or num==1:\n",
    "            return 1\n",
    "        else:\n",
    "            return num*fact(num-1)\n",
    "    else: \n",
    "        return -1"
   ]
  },
  {
   "cell_type": "code",
   "execution_count": 17,
   "id": "7deca249-7653-4686-94b7-1f60f5e3ae6a",
   "metadata": {},
   "outputs": [
    {
     "name": "stdout",
     "output_type": "stream",
     "text": [
      "5040\n"
     ]
    }
   ],
   "source": [
    "print(fact(7))"
   ]
  },
  {
   "cell_type": "code",
   "execution_count": 25,
   "id": "856f60b1-a918-4beb-9e1e-942e67b0ef62",
   "metadata": {},
   "outputs": [],
   "source": [
    "def sum_sub_mul_div(x,y):\n",
    "    return (x+y),(x-y),(x*y),(x/y)"
   ]
  },
  {
   "cell_type": "code",
   "execution_count": 26,
   "id": "236b9d6f-4a49-41bf-bffc-ecf7dac03b5a",
   "metadata": {},
   "outputs": [
    {
     "name": "stdout",
     "output_type": "stream",
     "text": [
      "17 3 70 1.4285714285714286\n"
     ]
    }
   ],
   "source": [
    "a,b,c,d=sum_sub_mul_div(10,7)\n",
    "print(a,b,c,d)"
   ]
  },
  {
   "cell_type": "code",
   "execution_count": 27,
   "id": "a82fa5ad-0448-4abd-90e2-3c472167a849",
   "metadata": {},
   "outputs": [],
   "source": [
    "def wish(name,msg):\n",
    "    print(f'hi {name}, {msg}')"
   ]
  },
  {
   "cell_type": "code",
   "execution_count": 33,
   "id": "0abb14c3-db26-4f46-b4ad-d7f5a6829a1e",
   "metadata": {},
   "outputs": [
    {
     "name": "stdout",
     "output_type": "stream",
     "text": [
      "hi lal, welcome\n",
      "hi bhai, sab sahi\n"
     ]
    }
   ],
   "source": [
    "wish('lal','welcome')\n",
    "# wish(name='chula','wawa') this will through error \n",
    "# wish(bhai,msg=\"aaja\") error\n",
    "wish(msg='sab sahi',name='bhai')"
   ]
  },
  {
   "cell_type": "code",
   "execution_count": 34,
   "id": "b1690346-930d-4d58-af4b-7b3f843f4d7b",
   "metadata": {},
   "outputs": [],
   "source": [
    "def wish(name=\"Guest\",msg=\"welcome\"):\n",
    "    print(f'hi {name}, {msg}')\n",
    "def wish(name,msg=\"aajao\"):\n",
    "    print(f'hi {name}, {msg}')\n",
    "# def wish(name=\"haha\",msg):   parameter without a default follows parameter with a default\n",
    "#         print(f'hi {name}, {msg}')"
   ]
  },
  {
   "cell_type": "code",
   "execution_count": 42,
   "id": "00a31c4e-416e-49ac-8d8e-5610f9024550",
   "metadata": {},
   "outputs": [],
   "source": [
    "def sum(*n):\n",
    "    tot=0\n",
    "    for i in n:\n",
    "        tot+=i\n",
    "\n",
    "    print( tot)\n",
    "    "
   ]
  },
  {
   "cell_type": "code",
   "execution_count": 43,
   "id": "d6028d8c-3099-4428-90fd-9f7d08c3e570",
   "metadata": {},
   "outputs": [
    {
     "name": "stdout",
     "output_type": "stream",
     "text": [
      "10\n",
      "69\n"
     ]
    }
   ],
   "source": [
    "sum(10)\n",
    "sum(12, 23, 34)"
   ]
  },
  {
   "cell_type": "code",
   "execution_count": 44,
   "id": "90e94c31-15a8-459a-8716-c077aab7c7ed",
   "metadata": {},
   "outputs": [],
   "source": [
    "def f1(n1,*s):\n",
    "    print(\"yo\",n1)\n",
    "\n",
    "    for i in s:\n",
    "        print(i)"
   ]
  },
  {
   "cell_type": "code",
   "execution_count": 46,
   "id": "95eccecb-54e9-4e38-ae2d-4b6a999a50ab",
   "metadata": {},
   "outputs": [
    {
     "name": "stdout",
     "output_type": "stream",
     "text": [
      "yo 10\n",
      "yo 12\n",
      "13\n",
      "esd\n",
      "43\n",
      "23\n"
     ]
    }
   ],
   "source": [
    "f1(10)\n",
    "f1(12,13,'esd',43,23)"
   ]
  },
  {
   "cell_type": "code",
   "execution_count": 47,
   "id": "4909c38b-12a7-410f-8250-1c91d7754cfc",
   "metadata": {},
   "outputs": [],
   "source": [
    "def f2(**kword):\n",
    "    for k,v in kword.items():\n",
    "        print(k,\"=\",v)"
   ]
  },
  {
   "cell_type": "code",
   "execution_count": 49,
   "id": "6cce020f-3f60-48d1-b30b-a21605f36f05",
   "metadata": {},
   "outputs": [
    {
     "name": "stdout",
     "output_type": "stream",
     "text": [
      "name = lal\n",
      "age = 21\n",
      "sex = male\n"
     ]
    }
   ],
   "source": [
    "f2(name=\"lal\",age=21,sex=\"male\")"
   ]
  },
  {
   "cell_type": "code",
   "execution_count": 50,
   "id": "d9571d04-109d-4a81-b7e6-188290c026bd",
   "metadata": {},
   "outputs": [
    {
     "name": "stdout",
     "output_type": "stream",
     "text": [
      "a = 1\n",
      "s = 2\n",
      "d = 3\n",
      "f = 4\n"
     ]
    }
   ],
   "source": [
    "f2(a=1,s=2,d=3,f=4)"
   ]
  },
  {
   "cell_type": "code",
   "execution_count": 52,
   "id": "106199fc-79c0-4d76-8cf7-180db215627c",
   "metadata": {},
   "outputs": [
    {
     "name": "stdout",
     "output_type": "stream",
     "text": [
      "10\n",
      "10\n"
     ]
    }
   ],
   "source": [
    "a=10 #globle veriable\n",
    "def fn1():\n",
    "    print(a)\n",
    "def fn2():\n",
    "    print(a)\n",
    "\n",
    "fn1()\n",
    "fn2()"
   ]
  },
  {
   "cell_type": "code",
   "execution_count": 53,
   "id": "25c09b3f-014f-458c-a67a-befdd2017584",
   "metadata": {},
   "outputs": [
    {
     "name": "stdout",
     "output_type": "stream",
     "text": [
      "21\n",
      "10\n"
     ]
    }
   ],
   "source": [
    "a=10 #globle veriable\n",
    "def fn1():\n",
    "    a=21\n",
    "    print(a)\n",
    "def fn2():\n",
    "    print(a)\n",
    "\n",
    "fn1()\n",
    "fn2()"
   ]
  },
  {
   "cell_type": "code",
   "execution_count": 55,
   "id": "62fb217e-a85a-40da-b249-66a5a5567f7b",
   "metadata": {},
   "outputs": [
    {
     "name": "stdout",
     "output_type": "stream",
     "text": [
      "21\n",
      "21\n"
     ]
    }
   ],
   "source": [
    "a=10 #globle veriable\n",
    "def fn1():\n",
    "    global a\n",
    "    a=21\n",
    "    print(a)\n",
    "def fn2():\n",
    "    print(a)\n",
    "\n",
    "fn1()\n",
    "fn2()"
   ]
  },
  {
   "cell_type": "code",
   "execution_count": 57,
   "id": "7cf44fb2-14a5-4612-b7ef-b67ca5c7ee1b",
   "metadata": {},
   "outputs": [
    {
     "name": "stdout",
     "output_type": "stream",
     "text": [
      "32\n",
      "10\n"
     ]
    }
   ],
   "source": [
    "a=10\n",
    "def fn3():\n",
    "    a=32\n",
    "    print(a)\n",
    "    print(globals()['a'])\n",
    "\n",
    "fn3()"
   ]
  },
  {
   "cell_type": "code",
   "execution_count": 2,
   "id": "5d2c7974-21c6-45f4-bbc5-3ef560088c92",
   "metadata": {},
   "outputs": [
    {
     "name": "stdout",
     "output_type": "stream",
     "text": [
      "square of 4=16\n"
     ]
    }
   ],
   "source": [
    "s = lambda x:x*x\n",
    "print(f\"square of {4}={s(4)}\")"
   ]
  },
  {
   "cell_type": "code",
   "execution_count": 3,
   "id": "9721fa98-10a1-4196-9c5e-14bdf86daca8",
   "metadata": {},
   "outputs": [
    {
     "name": "stdout",
     "output_type": "stream",
     "text": [
      "42\n"
     ]
    }
   ],
   "source": [
    "add=lambda x,y:x+y\n",
    "print(add(10,32))"
   ]
  },
  {
   "cell_type": "code",
   "execution_count": 4,
   "id": "0b2a1e3a-14f9-4cbd-815a-5c5bbd370d39",
   "metadata": {},
   "outputs": [
    {
     "name": "stdout",
     "output_type": "stream",
     "text": [
      "53\n"
     ]
    }
   ],
   "source": [
    "maxi= lambda x,y,z:max(x,y,z)\n",
    "print(maxi(20,31,53))"
   ]
  },
  {
   "cell_type": "code",
   "execution_count": 5,
   "id": "5cc42bd1-47c0-408c-aac2-57cbcbce500e",
   "metadata": {},
   "outputs": [
    {
     "name": "stdout",
     "output_type": "stream",
     "text": [
      "32\n"
     ]
    }
   ],
   "source": [
    "greater= lambda x,y,z:x if x>y and x>z else y if y>x and y>z else z\n",
    "print(greater(10,32,12))"
   ]
  },
  {
   "cell_type": "code",
   "execution_count": 9,
   "id": "5ffd03f1-1c34-4236-9fea-418326b64f03",
   "metadata": {},
   "outputs": [
    {
     "name": "stdout",
     "output_type": "stream",
     "text": [
      "[1, 3, 5, 7, 9]\n"
     ]
    }
   ],
   "source": [
    "arr=[1,2,3,4,5,6,7,8,9,10]\n",
    "z= filter(lambda x:x%2!=0, arr)\n",
    "print(list(z))"
   ]
  },
  {
   "cell_type": "code",
   "execution_count": 10,
   "id": "a0d1b8b5-ccda-45c3-826e-92f575ce4b38",
   "metadata": {},
   "outputs": [
    {
     "name": "stdout",
     "output_type": "stream",
     "text": [
      "[1, 3, 5, 7, 9]\n"
     ]
    }
   ],
   "source": [
    "arr=[1,2,3,4,5,6,7,8,9,10]\n",
    "def fun(x):\n",
    "    return x%2!=0\n",
    "z= filter(fun, arr)\n",
    "print(list(z))"
   ]
  },
  {
   "cell_type": "code",
   "execution_count": 11,
   "id": "1965ff3f-421f-4ce0-98b6-e6da9c9252a7",
   "metadata": {},
   "outputs": [
    {
     "name": "stdout",
     "output_type": "stream",
     "text": [
      "[2, 4, 6, 8, 10, 12, 14, 16, 18, 20]\n"
     ]
    }
   ],
   "source": [
    "arr=[1,2,3,4,5,6,7,8,9,10]\n",
    "z= map(lambda x:2*x, arr)\n",
    "print(list(z))"
   ]
  },
  {
   "cell_type": "code",
   "execution_count": 12,
   "id": "fca97ed5-d766-492c-a00a-9c878d09d59b",
   "metadata": {},
   "outputs": [
    {
     "name": "stdout",
     "output_type": "stream",
     "text": [
      "[1, 4, 9, 16, 25, 36, 49, 64, 81, 100]\n"
     ]
    }
   ],
   "source": [
    "arr=[1,2,3,4,5,6,7,8,9,10]\n",
    "z= map(lambda x:x**2, arr)\n",
    "print(list(z))"
   ]
  },
  {
   "cell_type": "code",
   "execution_count": 13,
   "id": "b4858d90-3273-41ae-aca4-3592925222cc",
   "metadata": {},
   "outputs": [
    {
     "name": "stdout",
     "output_type": "stream",
     "text": [
      "[1, 8, 27, 64, 125, 216, 343, 512, 729, 1000]\n"
     ]
    }
   ],
   "source": [
    "arr1=[1, 4, 9, 16, 25, 36, 49, 64, 81, 100]\n",
    "arr2=[1,2,3,4,5,6,7,8,9,10]\n",
    "z= map(lambda x,y:x*y, arr1,arr2)\n",
    "print(list(z))"
   ]
  },
  {
   "cell_type": "code",
   "execution_count": 15,
   "id": "1126fbc0-e200-4c0d-9238-5e61763d12da",
   "metadata": {},
   "outputs": [
    {
     "name": "stdout",
     "output_type": "stream",
     "text": [
      "55\n"
     ]
    }
   ],
   "source": [
    "from functools import *\n",
    "arr=[1,2,3,4,5,6,7,8,9,10]\n",
    "z= reduce(lambda x,y:x+y,arr)\n",
    "print(z)"
   ]
  },
  {
   "cell_type": "code",
   "execution_count": 16,
   "id": "f395a827-90d1-43f7-958c-5645e0045f62",
   "metadata": {},
   "outputs": [
    {
     "name": "stdout",
     "output_type": "stream",
     "text": [
      "5050\n"
     ]
    }
   ],
   "source": [
    "p = reduce (lambda x,y:x+y,range(1,101))\n",
    "print(p)"
   ]
  },
  {
   "cell_type": "code",
   "execution_count": 17,
   "id": "5685c3fd-2ad1-45ff-bd78-3646f186e1a8",
   "metadata": {},
   "outputs": [
    {
     "name": "stdout",
     "output_type": "stream",
     "text": [
      "hi  sita\n",
      "hi  ram\n"
     ]
    }
   ],
   "source": [
    "def wish(name):\n",
    "    print(\"hi \",name)\n",
    "\n",
    "greet=wish #function aliasking\n",
    "wish(\"sita\")\n",
    "greet(\"ram\")"
   ]
  },
  {
   "cell_type": "code",
   "execution_count": 20,
   "id": "72e50ee7-b89d-4d69-9973-42975e4c78fb",
   "metadata": {},
   "outputs": [
    {
     "name": "stdout",
     "output_type": "stream",
     "text": [
      "in outer function\n",
      "inside inner function\n"
     ]
    }
   ],
   "source": [
    "def outer():\n",
    "    print(\"in outer function\")\n",
    "    def inner():\n",
    "        print(\"inside inner function\")\n",
    "    inner()\n",
    "outer()"
   ]
  },
  {
   "cell_type": "code",
   "execution_count": 21,
   "id": "aa69b291-e068-4ff0-9c05-af4322ee178e",
   "metadata": {},
   "outputs": [],
   "source": [
    "# Data structure in python\n",
    "lis=[1,2,3,\"aa\",'ead',3232.12]"
   ]
  },
  {
   "cell_type": "code",
   "execution_count": 22,
   "id": "f0307439-90cd-40b5-9d07-6525672121cb",
   "metadata": {},
   "outputs": [
    {
     "data": {
      "text/plain": [
       "'aa'"
      ]
     },
     "execution_count": 22,
     "metadata": {},
     "output_type": "execute_result"
    }
   ],
   "source": [
    "lis[3]"
   ]
  },
  {
   "cell_type": "code",
   "execution_count": 23,
   "id": "372ff600-3f75-42e9-9dae-b1aff65114c2",
   "metadata": {},
   "outputs": [
    {
     "data": {
      "text/plain": [
       "3232.12"
      ]
     },
     "execution_count": 23,
     "metadata": {},
     "output_type": "execute_result"
    }
   ],
   "source": [
    "lis[5]"
   ]
  },
  {
   "cell_type": "code",
   "execution_count": 27,
   "id": "710a0c8c-180d-4d33-8a90-276d35ba87c7",
   "metadata": {},
   "outputs": [
    {
     "name": "stdin",
     "output_type": "stream",
     "text": [
      "enter the value in list \"aw\",'w',32,53.4\n"
     ]
    },
    {
     "name": "stdout",
     "output_type": "stream",
     "text": [
      "('aw', 'w', 32, 53.4)\n"
     ]
    }
   ],
   "source": [
    "lis= eval(input(\"enter the value in list\"))\n",
    "print(lis)"
   ]
  },
  {
   "cell_type": "code",
   "execution_count": 29,
   "id": "efd10e98-f0a7-4d39-aec7-671da245d35a",
   "metadata": {},
   "outputs": [
    {
     "name": "stdout",
     "output_type": "stream",
     "text": [
      "[0, 2, 4, 6, 8]\n"
     ]
    }
   ],
   "source": [
    "t=list(range(0,10,2))\n",
    "print(t)"
   ]
  },
  {
   "cell_type": "code",
   "execution_count": 30,
   "id": "7334ed81-df95-4f90-a8ab-be807759f259",
   "metadata": {},
   "outputs": [
    {
     "name": "stdout",
     "output_type": "stream",
     "text": [
      "['chal', 'bhai', 'khane', 'chalte', 'h']\n"
     ]
    }
   ],
   "source": [
    "#split\n",
    "a=\"chal bhai khane chalte h\"\n",
    "a=a.split()\n",
    "print(a)"
   ]
  },
  {
   "cell_type": "code",
   "execution_count": 31,
   "id": "0549b1ff-2f90-4fa9-9614-8cbf40a9135c",
   "metadata": {},
   "outputs": [
    {
     "name": "stdout",
     "output_type": "stream",
     "text": [
      "[23, 5, 8, 84, 634, 534]\n"
     ]
    }
   ],
   "source": [
    "n=[1,23,4,5,67,8,94,84,4,634,57,534]\n",
    "n=n[1::2]\n",
    "print(n)"
   ]
  },
  {
   "cell_type": "code",
   "execution_count": 33,
   "id": "f94b228c-ca72-4c23-a0c7-65066e6c6722",
   "metadata": {},
   "outputs": [
    {
     "data": {
      "text/plain": [
       "5"
      ]
     },
     "execution_count": 33,
     "metadata": {},
     "output_type": "execute_result"
    }
   ],
   "source": [
    "s1=[1,1,1,1,1,2,3,4,4,4,4]\n",
    "s1.count(1)"
   ]
  },
  {
   "cell_type": "code",
   "execution_count": 35,
   "id": "408c5bad-7c99-40d1-95e8-debce7282fba",
   "metadata": {},
   "outputs": [
    {
     "data": {
      "text/plain": [
       "1"
      ]
     },
     "execution_count": 35,
     "metadata": {},
     "output_type": "execute_result"
    }
   ],
   "source": [
    "n.index(5)"
   ]
  },
  {
   "cell_type": "code",
   "execution_count": 36,
   "id": "55fe729f-5b39-4dea-a427-4d37c5335f63",
   "metadata": {},
   "outputs": [
    {
     "name": "stdout",
     "output_type": "stream",
     "text": [
      "True\n"
     ]
    }
   ],
   "source": [
    "print(2 in s1)"
   ]
  },
  {
   "cell_type": "code",
   "execution_count": 39,
   "id": "79106fdf-32b2-432c-8f04-51e47395f631",
   "metadata": {},
   "outputs": [
    {
     "name": "stdout",
     "output_type": "stream",
     "text": [
      "[2, 3, 'ram', 'sita']\n"
     ]
    }
   ],
   "source": [
    "#manupulating the list data\n",
    "#append\n",
    "lt=[]\n",
    "lt.append(2)\n",
    "lt.append(3)\n",
    "lt.append('ram')\n",
    "lt.append(\"sita\")\n",
    "print(lt)"
   ]
  },
  {
   "cell_type": "code",
   "execution_count": 40,
   "id": "c86ea8b4-c8c9-4803-b2be-657eb1e4a8a2",
   "metadata": {},
   "outputs": [
    {
     "name": "stdout",
     "output_type": "stream",
     "text": [
      "[0, 10, 20, 30, 40, 50, 60, 70, 80, 90, 100]\n"
     ]
    }
   ],
   "source": [
    "num=0\n",
    "lt=[]\n",
    "while(num<=100):\n",
    "    lt.append(num)\n",
    "    num+=10\n",
    "print(lt)"
   ]
  },
  {
   "cell_type": "code",
   "execution_count": 41,
   "id": "6ca525a6-bdeb-470a-8ab4-e0c507ab296f",
   "metadata": {},
   "outputs": [
    {
     "name": "stdout",
     "output_type": "stream",
     "text": [
      "[0, 10, 15, 20, 30, 40, 50, 60, 70, 80, 90, 100]\n"
     ]
    }
   ],
   "source": [
    "lt.insert(2,15)\n",
    "print(lt)"
   ]
  },
  {
   "cell_type": "code",
   "execution_count": 1,
   "id": "b8f92577-1d6a-4da5-a315-a29a7f446781",
   "metadata": {},
   "outputs": [
    {
     "ename": "NameError",
     "evalue": "name 'math' is not defined",
     "output_type": "error",
     "traceback": [
      "\u001b[1;31m---------------------------------------------------------------------------\u001b[0m",
      "\u001b[1;31mNameError\u001b[0m                                 Traceback (most recent call last)",
      "Cell \u001b[1;32mIn[1], line 1\u001b[0m\n\u001b[1;32m----> 1\u001b[0m \u001b[38;5;28mprint\u001b[39m(math\u001b[38;5;241m.\u001b[39mpow(\u001b[38;5;241m3\u001b[39m, \u001b[38;5;241m2\u001b[39m))\n",
      "\u001b[1;31mNameError\u001b[0m: name 'math' is not defined"
     ]
    }
   ],
   "source": [
    "print(math.pow(3, 2))"
   ]
  },
  {
   "cell_type": "code",
   "execution_count": null,
   "id": "a3b80d60-5597-4d28-9b47-f80259756b16",
   "metadata": {},
   "outputs": [],
   "source": []
  }
 ],
 "metadata": {
  "kernelspec": {
   "display_name": "Python [conda env:base] *",
   "language": "python",
   "name": "conda-base-py"
  },
  "language_info": {
   "codemirror_mode": {
    "name": "ipython",
    "version": 3
   },
   "file_extension": ".py",
   "mimetype": "text/x-python",
   "name": "python",
   "nbconvert_exporter": "python",
   "pygments_lexer": "ipython3",
   "version": "3.13.5"
  }
 },
 "nbformat": 4,
 "nbformat_minor": 5
}
