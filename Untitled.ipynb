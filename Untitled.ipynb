{
 "cells": [
  {
   "cell_type": "code",
   "execution_count": 1,
   "id": "d25f50c0-e087-4938-bab0-e9412ddd64bb",
   "metadata": {},
   "outputs": [
    {
     "name": "stdout",
     "output_type": "stream",
     "text": [
      "['durga', 'Kali', 'laksmi', 'shiv', 'ganesh', 'narayan']\n"
     ]
    }
   ],
   "source": [
    "#extend\n",
    "x=['durga','Kali','laksmi']\n",
    "y=['shiv','ganesh','narayan']\n",
    "x.extend(y)\n",
    "print(x)"
   ]
  },
  {
   "cell_type": "code",
   "execution_count": 2,
   "id": "05a982f5-3378-46f8-b2b4-c14660db41f3",
   "metadata": {},
   "outputs": [
    {
     "name": "stdout",
     "output_type": "stream",
     "text": [
      "[210, 12, 23, 10]\n"
     ]
    }
   ],
   "source": [
    "#remove\n",
    "a=[10,210,12,23,10]\n",
    "a.remove(10)\n",
    "print(a)"
   ]
  },
  {
   "cell_type": "code",
   "execution_count": 4,
   "id": "91b14838-26a9-4235-84ec-fd7d771f7057",
   "metadata": {
    "scrolled": true
   },
   "outputs": [
    {
     "name": "stdout",
     "output_type": "stream",
     "text": [
      "[10, 210, 12, 23]\n",
      "10\n"
     ]
    }
   ],
   "source": [
    "#pop: it removes and return the last value of list. it is the only one which manupulat and return data\n",
    "a=[10,210,12,23,10]\n",
    "m=a.pop()\n",
    "print(a)\n",
    "print(m)"
   ]
  },
  {
   "cell_type": "code",
   "execution_count": 5,
   "id": "f381a746-390c-4bb7-8b7e-b519a7982dfd",
   "metadata": {},
   "outputs": [
    {
     "name": "stdout",
     "output_type": "stream",
     "text": [
      "23\n",
      "210\n"
     ]
    }
   ],
   "source": [
    "print(a.pop())\n",
    "print(a.pop(1))"
   ]
  },
  {
   "cell_type": "code",
   "execution_count": 6,
   "id": "bdfb3d1b-132a-4661-9217-281eaf323950",
   "metadata": {},
   "outputs": [
    {
     "name": "stdout",
     "output_type": "stream",
     "text": [
      "[50, 40, 30, 20, 10]\n"
     ]
    }
   ],
   "source": [
    "#odering\n",
    "#reverse\n",
    "a=[10,20,30,40,50]\n",
    "a.reverse()\n",
    "print(a)"
   ]
  },
  {
   "cell_type": "code",
   "execution_count": 7,
   "id": "a60fe05a-6c3e-40f8-8290-16eb308598e2",
   "metadata": {},
   "outputs": [
    {
     "name": "stdout",
     "output_type": "stream",
     "text": [
      "[10, 20, 30, 40, 50]\n"
     ]
    }
   ],
   "source": [
    "a.sort()\n",
    "print(a)"
   ]
  },
  {
   "cell_type": "code",
   "execution_count": 8,
   "id": "28ad622d-d6c3-41e2-a3a3-8db328ad1e77",
   "metadata": {},
   "outputs": [
    {
     "name": "stdout",
     "output_type": "stream",
     "text": [
      "['durga', 'kali', 'mata', 'swarshati']\n"
     ]
    }
   ],
   "source": [
    "b=['kali','durga','swarshati','mata']\n",
    "b.sort()\n",
    "print(b)"
   ]
  },
  {
   "cell_type": "code",
   "execution_count": 9,
   "id": "a785d241-c710-442d-982a-72267256aeb4",
   "metadata": {},
   "outputs": [
    {
     "name": "stdout",
     "output_type": "stream",
     "text": [
      "[50, 40, 30, 20, 10]\n"
     ]
    }
   ],
   "source": [
    "a.sort(reverse=True)\n",
    "print(a)"
   ]
  },
  {
   "cell_type": "code",
   "execution_count": 10,
   "id": "49ea37a8-3b9e-4d29-b97a-65f97f198225",
   "metadata": {},
   "outputs": [
    {
     "name": "stdout",
     "output_type": "stream",
     "text": [
      "[50, 40, 30, 20, 10] [50, 40, 32, 20, 10]\n"
     ]
    }
   ],
   "source": [
    "#copy\n",
    "c=a.copy()\n",
    "c[2]=32\n",
    "print(a,c)"
   ]
  },
  {
   "cell_type": "code",
   "execution_count": 11,
   "id": "edd35520-d88b-4c3a-9ea1-f46f4c110fb3",
   "metadata": {},
   "outputs": [
    {
     "name": "stdout",
     "output_type": "stream",
     "text": [
      "[50, 40, 30, 20, 10, 50, 40, 32, 20, 10]\n"
     ]
    }
   ],
   "source": [
    "d=a+c\n",
    "print(d)"
   ]
  },
  {
   "cell_type": "code",
   "execution_count": 12,
   "id": "6e8b6fe7-25dc-4702-909b-fdc9a7ea0425",
   "metadata": {},
   "outputs": [
    {
     "name": "stdout",
     "output_type": "stream",
     "text": [
      "True\n",
      "True\n",
      "False\n",
      "False\n"
     ]
    }
   ],
   "source": [
    "x=[5,2,3]\n",
    "y=[4,5,6,7]\n",
    "print(x>y)\n",
    "print(x>=y)\n",
    "print(x<=y)\n",
    "print(x<y)"
   ]
  },
  {
   "cell_type": "code",
   "execution_count": 13,
   "id": "4b52de54-c1c4-4aba-87e7-93bde838cc4a",
   "metadata": {},
   "outputs": [
    {
     "name": "stdout",
     "output_type": "stream",
     "text": [
      "True\n",
      "False\n"
     ]
    }
   ],
   "source": [
    "print(10 in a)\n",
    "print(10 not in a)"
   ]
  },
  {
   "cell_type": "code",
   "execution_count": 14,
   "id": "09ad2103-c763-4acb-8fb1-609d03f90ab6",
   "metadata": {},
   "outputs": [
    {
     "name": "stdout",
     "output_type": "stream",
     "text": [
      "[]\n"
     ]
    }
   ],
   "source": [
    "#clear\n",
    "a.clear()\n",
    "print(a)"
   ]
  },
  {
   "cell_type": "code",
   "execution_count": 15,
   "id": "9222aa4e-06dd-41fe-9f13-f1dc431a0194",
   "metadata": {},
   "outputs": [
    {
     "name": "stdout",
     "output_type": "stream",
     "text": [
      "{1, 2, 3, 4, 5, 6, 7}\n",
      "<class 'set'>\n"
     ]
    }
   ],
   "source": [
    "s={1,2,3,4,5,6,6,7}\n",
    "print(s)\n",
    "print(type(s))"
   ]
  },
  {
   "cell_type": "code",
   "execution_count": 16,
   "id": "52fed63e-b0c4-49c9-b8c5-2a6536d2c6ed",
   "metadata": {},
   "outputs": [
    {
     "name": "stdout",
     "output_type": "stream",
     "text": [
      "{1, 2, 3, 4, 5, 6, 7, 8}\n"
     ]
    }
   ],
   "source": [
    "#set using the list by converting \n",
    "l1=[1,2,3,4,5,5,6,7,6,7,8]\n",
    "s1=set(l1)\n",
    "print(s1)"
   ]
  },
  {
   "cell_type": "code",
   "execution_count": 17,
   "id": "130e8aef-92a2-4845-92d4-20ee7f15cc43",
   "metadata": {},
   "outputs": [
    {
     "name": "stdout",
     "output_type": "stream",
     "text": [
      "{5, 6, 7, 8, 9, 10, 11, 12, 13, 14, 15, 16, 17, 18, 19}\n"
     ]
    }
   ],
   "source": [
    "s2=set(range(5,20))\n",
    "print(s2)"
   ]
  },
  {
   "cell_type": "code",
   "execution_count": 21,
   "id": "c45e9c83-6eb5-4f36-97dd-cb3e66e3b2fe",
   "metadata": {},
   "outputs": [
    {
     "data": {
      "text/plain": [
       "dict"
      ]
     },
     "execution_count": 21,
     "metadata": {},
     "output_type": "execute_result"
    }
   ],
   "source": [
    "s3={} #it will create dict not set\n",
    "type(s3)"
   ]
  },
  {
   "cell_type": "code",
   "execution_count": 22,
   "id": "96041118-14fc-4b9a-962f-10799742577d",
   "metadata": {},
   "outputs": [
    {
     "data": {
      "text/plain": [
       "set"
      ]
     },
     "execution_count": 22,
     "metadata": {},
     "output_type": "execute_result"
    }
   ],
   "source": [
    "s4=set()\n",
    "type(s4)"
   ]
  },
  {
   "cell_type": "code",
   "execution_count": 23,
   "id": "a9efd1b7-770c-477e-9b1c-1d9072e76365",
   "metadata": {},
   "outputs": [
    {
     "name": "stdout",
     "output_type": "stream",
     "text": [
      "{10}\n"
     ]
    }
   ],
   "source": [
    "#Functions in set\n",
    "#add\n",
    "s4.add(10)\n",
    "print(s4)"
   ]
  },
  {
   "cell_type": "code",
   "execution_count": 24,
   "id": "1ca5f64f-1baf-4439-bbbd-09d3ed93054a",
   "metadata": {},
   "outputs": [
    {
     "name": "stdout",
     "output_type": "stream",
     "text": [
      "{0, 1, 2, 3, 4, 5, 10, 21, 23, 31, 33, 40, 51}\n"
     ]
    }
   ],
   "source": [
    "#update(x,y,z)\n",
    "s={10,23,33,4,5}\n",
    "l=[40,51,31,21]\n",
    "s.update(l,range(5))\n",
    "print(s)"
   ]
  },
  {
   "cell_type": "code",
   "execution_count": 27,
   "id": "3ed12bd5-e74b-4d92-971e-413294ac3191",
   "metadata": {},
   "outputs": [],
   "source": [
    "# s.add(20,30,40) it will through an error as add will take one argument\n",
    "#update use for multiple items"
   ]
  },
  {
   "cell_type": "code",
   "execution_count": 29,
   "id": "46998ebb-269d-4170-aa8b-5b5d43075499",
   "metadata": {},
   "outputs": [
    {
     "name": "stdout",
     "output_type": "stream",
     "text": [
      "{0, 1, 2, 3, 4, 5, 33, 40, 10, 51, 21, 23, 31}\n"
     ]
    }
   ],
   "source": [
    "#copy\n",
    "p=s.copy()\n",
    "print(p)"
   ]
  },
  {
   "cell_type": "code",
   "execution_count": 30,
   "id": "36c5a120-8195-401d-8822-bbbbcdad0f1c",
   "metadata": {},
   "outputs": [
    {
     "name": "stdout",
     "output_type": "stream",
     "text": [
      "0\n",
      "{1, 2, 3, 4, 5, 10, 21, 23, 31, 33, 40, 51}\n"
     ]
    }
   ],
   "source": [
    "#pop\n",
    "print(s.pop())\n",
    "print(s)"
   ]
  },
  {
   "cell_type": "code",
   "execution_count": 31,
   "id": "3bf87fdd-d413-4028-ac6e-e2d0914bd11e",
   "metadata": {},
   "outputs": [
    {
     "name": "stdout",
     "output_type": "stream",
     "text": [
      "{1, 2, 4, 5, 10, 21, 23, 31, 33, 40, 51}\n"
     ]
    }
   ],
   "source": [
    "#remove it will throw error if element is not in the set\n",
    "s.remove(3)\n",
    "print(s)"
   ]
  },
  {
   "cell_type": "code",
   "execution_count": 32,
   "id": "bbf54c2c-176b-4875-813b-c958c14d182a",
   "metadata": {},
   "outputs": [
    {
     "name": "stdout",
     "output_type": "stream",
     "text": [
      "{1, 2, 4, 5, 21, 23, 31, 33, 40, 51}\n"
     ]
    }
   ],
   "source": [
    "#discard it will not throw error if element not in set\n",
    "s.discard(10)\n",
    "print(s)\n"
   ]
  },
  {
   "cell_type": "code",
   "execution_count": 34,
   "id": "d0d1c36e-a09d-415f-9312-f90ee3ecc69c",
   "metadata": {},
   "outputs": [
    {
     "name": "stdout",
     "output_type": "stream",
     "text": [
      "set()\n"
     ]
    }
   ],
   "source": [
    "#clear\n",
    "s.clear()\n",
    "print(s)"
   ]
  },
  {
   "cell_type": "code",
   "execution_count": 35,
   "id": "4b1438e7-9882-4f33-9721-7fb2011a6fcd",
   "metadata": {},
   "outputs": [
    {
     "name": "stdout",
     "output_type": "stream",
     "text": [
      "{1, 2, 3, 4, 5, 6, 7, 8}\n"
     ]
    }
   ],
   "source": [
    "#union\n",
    "s={1,2,3,4,5}\n",
    "t={4,5,6,7,8}\n",
    "print(s.union(t))"
   ]
  },
  {
   "cell_type": "code",
   "execution_count": 37,
   "id": "e19a8a74-ccfd-4962-bcfb-660bd4cc6900",
   "metadata": {},
   "outputs": [
    {
     "name": "stdout",
     "output_type": "stream",
     "text": [
      "{1, 2, 3, 4, 5, 6, 7, 8}\n"
     ]
    }
   ],
   "source": [
    "print(s|t) # same as union"
   ]
  },
  {
   "cell_type": "code",
   "execution_count": 38,
   "id": "17c4f857-2a2c-4f77-8305-7a2c71e9dfd8",
   "metadata": {},
   "outputs": [
    {
     "name": "stdout",
     "output_type": "stream",
     "text": [
      "{4, 5}\n"
     ]
    }
   ],
   "source": [
    "#intersection\n",
    "print(s.intersection(t))"
   ]
  },
  {
   "cell_type": "code",
   "execution_count": 40,
   "id": "744e947d-fd74-40e8-8654-14b6f4d89709",
   "metadata": {},
   "outputs": [
    {
     "name": "stdout",
     "output_type": "stream",
     "text": [
      "{4, 5}\n"
     ]
    }
   ],
   "source": [
    "print(s&t) # same as intersection"
   ]
  },
  {
   "cell_type": "code",
   "execution_count": 41,
   "id": "0be60c5d-5e88-48de-bbee-625ee4c368c7",
   "metadata": {},
   "outputs": [
    {
     "name": "stdout",
     "output_type": "stream",
     "text": [
      "{1, 2, 3}\n"
     ]
    }
   ],
   "source": [
    "#difference\n",
    "print(s.difference(t))"
   ]
  },
  {
   "cell_type": "code",
   "execution_count": 42,
   "id": "085aa689-ab32-4d67-a7f7-f4c6916c1cba",
   "metadata": {},
   "outputs": [
    {
     "name": "stdout",
     "output_type": "stream",
     "text": [
      "{1, 2, 3}\n"
     ]
    }
   ],
   "source": [
    "print(s-t) # it works same as difference"
   ]
  },
  {
   "cell_type": "code",
   "execution_count": 43,
   "id": "ecf1715c-fb54-4ef7-8bca-29b5d1bb1211",
   "metadata": {},
   "outputs": [
    {
     "name": "stdout",
     "output_type": "stream",
     "text": [
      "True\n"
     ]
    }
   ],
   "source": [
    "#mambership operator\n",
    "s=set(\"Aayush Prasad\")\n",
    "print(('a' in s))"
   ]
  },
  {
   "cell_type": "code",
   "execution_count": 45,
   "id": "77a68d0c-0494-494e-854e-bd936f06336f",
   "metadata": {},
   "outputs": [
    {
     "name": "stdin",
     "output_type": "stream",
     "text": [
      " aaysuhs\n"
     ]
    },
    {
     "name": "stdout",
     "output_type": "stream",
     "text": [
      "{'u', 'a'}\n"
     ]
    }
   ],
   "source": [
    "word=input()\n",
    "b=set()\n",
    "b.update(word)\n",
    "a={'a','e','i','u'}\n",
    "\n",
    "print(a&b)"
   ]
  },
  {
   "cell_type": "code",
   "execution_count": 46,
   "id": "f5684d43-b1ef-4674-9b5c-b7379911bb93",
   "metadata": {},
   "outputs": [
    {
     "name": "stdout",
     "output_type": "stream",
     "text": [
      "(10, 23, 42, 23, 1)\n",
      "<class 'tuple'>\n"
     ]
    }
   ],
   "source": [
    "t=10,23,42,23,1\n",
    "print(t)\n",
    "print(type(t))"
   ]
  },
  {
   "cell_type": "code",
   "execution_count": 48,
   "id": "67e99039-8b25-4bd8-8f0b-394675ee6500",
   "metadata": {},
   "outputs": [
    {
     "name": "stdout",
     "output_type": "stream",
     "text": [
      "<class 'tuple'> <class 'tuple'> <class 'int'>\n"
     ]
    }
   ],
   "source": [
    "del t\n",
    "t=(2,) #it is tuple\n",
    "t1=() #it is also tuple\n",
    "t2=(2) #this will act as int for tuple put a comma\n",
    "print(type(t),type(t1),type(t2))"
   ]
  },
  {
   "cell_type": "code",
   "execution_count": 49,
   "id": "2584f1c2-0677-4443-a3c8-8360a3babbcd",
   "metadata": {},
   "outputs": [
    {
     "name": "stdout",
     "output_type": "stream",
     "text": [
      "(1, 3, 5, 7, 9)\n"
     ]
    }
   ],
   "source": [
    "t=tuple([1,3,5,7,9])\n",
    "print(t)"
   ]
  },
  {
   "cell_type": "code",
   "execution_count": 50,
   "id": "fb7f3332-e8c7-45a1-b01d-1fc78a079ff6",
   "metadata": {},
   "outputs": [
    {
     "data": {
      "text/plain": [
       "tuple"
      ]
     },
     "execution_count": 50,
     "metadata": {},
     "output_type": "execute_result"
    }
   ],
   "source": [
    "type(t)"
   ]
  },
  {
   "cell_type": "code",
   "execution_count": 51,
   "id": "b6b121b9-c994-41ab-ba9c-7b52f83f81a6",
   "metadata": {},
   "outputs": [
    {
     "data": {
      "text/plain": [
       "1"
      ]
     },
     "execution_count": 51,
     "metadata": {},
     "output_type": "execute_result"
    }
   ],
   "source": [
    "# asseccing data\n",
    "t[0]"
   ]
  },
  {
   "cell_type": "code",
   "execution_count": 52,
   "id": "805aa4fe-1918-4314-b615-04abf0b3c1a0",
   "metadata": {},
   "outputs": [
    {
     "data": {
      "text/plain": [
       "9"
      ]
     },
     "execution_count": 52,
     "metadata": {},
     "output_type": "execute_result"
    }
   ],
   "source": [
    "t[-1]"
   ]
  },
  {
   "cell_type": "code",
   "execution_count": 53,
   "id": "5ae10f1a-bb27-4d53-ad98-66785933c9e8",
   "metadata": {},
   "outputs": [
    {
     "name": "stdout",
     "output_type": "stream",
     "text": [
      "(1, 3, 5, 7, 9, 1, 3, 5, 7, 9)\n"
     ]
    }
   ],
   "source": [
    "t2=t+t\n",
    "print(t2)"
   ]
  },
  {
   "cell_type": "code",
   "execution_count": 54,
   "id": "8be02721-4521-4978-a199-0d22ea42f3e0",
   "metadata": {},
   "outputs": [],
   "source": [
    "# functions in tuple\n",
    "# len()\n",
    "# count()\n",
    "# index()\n",
    "# sorted()\n",
    "# min()\n",
    "# max()"
   ]
  },
  {
   "cell_type": "code",
   "execution_count": 56,
   "id": "4cd73987-10b0-4094-b80f-6ddf63d95952",
   "metadata": {},
   "outputs": [
    {
     "data": {
      "text/plain": [
       "10"
      ]
     },
     "execution_count": 56,
     "metadata": {},
     "output_type": "execute_result"
    }
   ],
   "source": [
    "len(t2)"
   ]
  },
  {
   "cell_type": "code",
   "execution_count": 57,
   "id": "de4f45b3-72be-4dba-84bb-dee8d24e3de4",
   "metadata": {},
   "outputs": [
    {
     "data": {
      "text/plain": [
       "2"
      ]
     },
     "execution_count": 57,
     "metadata": {},
     "output_type": "execute_result"
    }
   ],
   "source": [
    "t2.count(3)"
   ]
  },
  {
   "cell_type": "code",
   "execution_count": 58,
   "id": "a4cee4a5-f043-4da9-8776-1f712d761374",
   "metadata": {},
   "outputs": [
    {
     "data": {
      "text/plain": [
       "2"
      ]
     },
     "execution_count": 58,
     "metadata": {},
     "output_type": "execute_result"
    }
   ],
   "source": [
    "t2.index(5)"
   ]
  },
  {
   "cell_type": "code",
   "execution_count": 60,
   "id": "f127cbc5-a672-43bf-a660-c38184e4e037",
   "metadata": {},
   "outputs": [
    {
     "name": "stdout",
     "output_type": "stream",
     "text": [
      "[1, 1, 3, 3, 5, 5, 7, 7, 9, 9]\n"
     ]
    }
   ],
   "source": [
    "t3=sorted(t2)\n",
    "print(t3)"
   ]
  },
  {
   "cell_type": "code",
   "execution_count": 62,
   "id": "cc867342-4ebb-4d2b-98e4-8204b726a737",
   "metadata": {},
   "outputs": [
    {
     "data": {
      "text/plain": [
       "1"
      ]
     },
     "execution_count": 62,
     "metadata": {},
     "output_type": "execute_result"
    }
   ],
   "source": [
    "min(t2)"
   ]
  },
  {
   "cell_type": "code",
   "execution_count": 63,
   "id": "132f7893-5a9e-4a93-accb-cb22b6e6d748",
   "metadata": {},
   "outputs": [
    {
     "data": {
      "text/plain": [
       "9"
      ]
     },
     "execution_count": 63,
     "metadata": {},
     "output_type": "execute_result"
    }
   ],
   "source": [
    "max(t2)"
   ]
  },
  {
   "cell_type": "code",
   "execution_count": 1,
   "id": "8f05b9d9-02f6-42ba-be25-675d591f319b",
   "metadata": {},
   "outputs": [
    {
     "name": "stdin",
     "output_type": "stream",
     "text": [
      "Enter you name: Aayush\n",
      "Enter you age: 21\n"
     ]
    },
    {
     "name": "stdout",
     "output_type": "stream",
     "text": [
      "{'name': 'Aayush', 'age': 21}\n"
     ]
    }
   ],
   "source": [
    "name=input(\"Enter you name:\")\n",
    "age=int(input('Enter you age:'))\n",
    "dit={}\n",
    "dit[\"name\"]=name\n",
    "dit['age']=age\n",
    "print(dit)"
   ]
  },
  {
   "cell_type": "code",
   "execution_count": null,
   "id": "2e81a4aa-3fdd-48cd-b74c-f67e85efd588",
   "metadata": {},
   "outputs": [],
   "source": []
  }
 ],
 "metadata": {
  "kernelspec": {
   "display_name": "Python [conda env:base] *",
   "language": "python",
   "name": "conda-base-py"
  },
  "language_info": {
   "codemirror_mode": {
    "name": "ipython",
    "version": 3
   },
   "file_extension": ".py",
   "mimetype": "text/x-python",
   "name": "python",
   "nbconvert_exporter": "python",
   "pygments_lexer": "ipython3",
   "version": "3.13.5"
  }
 },
 "nbformat": 4,
 "nbformat_minor": 5
}
