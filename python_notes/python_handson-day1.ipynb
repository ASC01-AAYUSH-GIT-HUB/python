{
 "cells": [
  {
   "cell_type": "code",
   "execution_count": 1,
   "id": "3f61c11f-13b6-4219-bcd8-5c34d0e5c9ec",
   "metadata": {},
   "outputs": [],
   "source": [
    "x=10"
   ]
  },
  {
   "cell_type": "code",
   "execution_count": 2,
   "id": "bc7f99aa-f3d6-4ae8-b854-af60b225ad73",
   "metadata": {},
   "outputs": [
    {
     "name": "stdout",
     "output_type": "stream",
     "text": [
      "<class 'int'>\n"
     ]
    }
   ],
   "source": [
    "print(type(x))"
   ]
  },
  {
   "cell_type": "code",
   "execution_count": 3,
   "id": "4d36109e-52c7-4d0c-86df-25ac69e34c8a",
   "metadata": {},
   "outputs": [],
   "source": [
    "#identifiers\n",
    "a=10"
   ]
  },
  {
   "cell_type": "code",
   "execution_count": 5,
   "id": "d8b019c1-cf35-494e-8039-12d6edbf294c",
   "metadata": {},
   "outputs": [],
   "source": [
    "aha=182"
   ]
  },
  {
   "cell_type": "code",
   "execution_count": 6,
   "id": "3bdb8bd3-3f7a-4941-b82d-f6777f1b6703",
   "metadata": {},
   "outputs": [],
   "source": [
    "tot=123\n",
    "TOT=321"
   ]
  },
  {
   "cell_type": "code",
   "execution_count": 7,
   "id": "7b32d701-0b0b-4687-a08a-74ddc20df53a",
   "metadata": {},
   "outputs": [
    {
     "name": "stdout",
     "output_type": "stream",
     "text": [
      "123\n",
      "321\n"
     ]
    }
   ],
   "source": [
    "print(tot)\n",
    "print(TOT)"
   ]
  },
  {
   "cell_type": "code",
   "execution_count": 9,
   "id": "a6767107-ed89-4bd7-83d3-dba93fb65fcd",
   "metadata": {},
   "outputs": [],
   "source": [
    "#dont use Reserved Words(Predefined) as identifiers\n",
    "# ex\n",
    "# def=3"
   ]
  },
  {
   "cell_type": "code",
   "execution_count": 10,
   "id": "2217c006-0703-4613-b1f3-12794e48502e",
   "metadata": {},
   "outputs": [],
   "source": [
    "#note: _ Symbol : private\n",
    "# __ Symbol : strongly private\n",
    "# __add__ :apecial name or magic methods\n",
    "\n",
    "# note :35 reserved words(ex: \n",
    "# False      await      else       import     pass\n",
    "# None       break      except     in         raise\n",
    "# True       class      finally    is         return\n",
    "# and        continue   for        lambda     try\n",
    "# as         def        from       nonlocal   while\n",
    "# assert     del        global     not        with\n",
    "# async      elif       if         or         yield)"
   ]
  },
  {
   "cell_type": "code",
   "execution_count": 12,
   "id": "56b3bcab-901d-465b-b681-38497e396368",
   "metadata": {},
   "outputs": [
    {
     "name": "stdout",
     "output_type": "stream",
     "text": [
      "<class 'bool'>\n"
     ]
    }
   ],
   "source": [
    "b=True\n",
    "print(type(b))"
   ]
  },
  {
   "cell_type": "code",
   "execution_count": 13,
   "id": "a7e2c927-9d59-4bb2-a291-b8875732d1d4",
   "metadata": {},
   "outputs": [
    {
     "name": "stdout",
     "output_type": "stream",
     "text": [
      "<class 'complex'>\n"
     ]
    }
   ],
   "source": [
    "a=10+1j\n",
    "print(type(a))"
   ]
  },
  {
   "cell_type": "code",
   "execution_count": 16,
   "id": "b74ac232-947f-49e2-8e22-d912ae214b74",
   "metadata": {},
   "outputs": [
    {
     "name": "stdout",
     "output_type": "stream",
     "text": [
      "(24+3.3j)\n"
     ]
    }
   ],
   "source": [
    "b=14+2.3j\n",
    "c=a+b\n",
    "print(c)"
   ]
  },
  {
   "cell_type": "code",
   "execution_count": 17,
   "id": "83dffe7e-7773-4fb4-accd-f07b8783a8f6",
   "metadata": {},
   "outputs": [
    {
     "name": "stdout",
     "output_type": "stream",
     "text": [
      "<class 'complex'>\n"
     ]
    }
   ],
   "source": [
    "print(type(c))"
   ]
  },
  {
   "cell_type": "code",
   "execution_count": 18,
   "id": "666ccea7-09db-46fd-9dcd-b295f2da3534",
   "metadata": {},
   "outputs": [],
   "source": [
    "# STR DATA TYPE:\n",
    "#     STRING\n",
    "# \" \" OR ' '"
   ]
  },
  {
   "cell_type": "code",
   "execution_count": 19,
   "id": "a0d24e9a-1cac-445f-ac4e-a3d22fa3f975",
   "metadata": {},
   "outputs": [
    {
     "name": "stdout",
     "output_type": "stream",
     "text": [
      "<class 'str'> <class 'str'>\n"
     ]
    }
   ],
   "source": [
    "s1=\"vala\"\n",
    "s2='vala'\n",
    "print(type(s1),type(s2))"
   ]
  },
  {
   "cell_type": "code",
   "execution_count": 23,
   "id": "cb5a382d-9730-4d41-80e1-d83d4de2c8c0",
   "metadata": {},
   "outputs": [],
   "source": [
    "# type conversion \n",
    "# ex int, float \n",
    "a=10.3\n",
    "b=3.1\n",
    "c=int(b)"
   ]
  },
  {
   "cell_type": "code",
   "execution_count": 24,
   "id": "de63033a-54e8-4398-81d8-ebfac823cf95",
   "metadata": {},
   "outputs": [
    {
     "data": {
      "text/plain": [
       "3"
      ]
     },
     "execution_count": 24,
     "metadata": {},
     "output_type": "execute_result"
    }
   ],
   "source": [
    "c"
   ]
  },
  {
   "cell_type": "code",
   "execution_count": 25,
   "id": "04bf0dae-683f-437b-8f77-b7e96e1d9ddb",
   "metadata": {},
   "outputs": [
    {
     "name": "stdout",
     "output_type": "stream",
     "text": [
      "aa\n"
     ]
    }
   ],
   "source": [
    "#STRING SLICING\n",
    "s='aayush prasad'\n",
    "print(s[0:2])"
   ]
  },
  {
   "cell_type": "code",
   "execution_count": 26,
   "id": "d0c39053-6e3c-4d2f-ad5c-f2e43a0425fd",
   "metadata": {},
   "outputs": [
    {
     "data": {
      "text/plain": [
       "'s'"
      ]
     },
     "execution_count": 26,
     "metadata": {},
     "output_type": "execute_result"
    }
   ],
   "source": [
    "s[4]"
   ]
  },
  {
   "cell_type": "code",
   "execution_count": 27,
   "id": "24dd5e6c-9de3-4902-a84e-b1cbbbbd5173",
   "metadata": {},
   "outputs": [
    {
     "data": {
      "text/plain": [
       "'yush p'"
      ]
     },
     "execution_count": 27,
     "metadata": {},
     "output_type": "execute_result"
    }
   ],
   "source": [
    "s[2:8]"
   ]
  },
  {
   "cell_type": "code",
   "execution_count": 29,
   "id": "bd187283-7af4-4a77-bdcc-bd2c9539722c",
   "metadata": {},
   "outputs": [
    {
     "data": {
      "text/plain": [
       "'ays rsd'"
      ]
     },
     "execution_count": 29,
     "metadata": {},
     "output_type": "execute_result"
    }
   ],
   "source": [
    "s[::2]"
   ]
  },
  {
   "cell_type": "code",
   "execution_count": 30,
   "id": "ee0e00d0-2f53-4d17-8f4c-06d95ec326d5",
   "metadata": {},
   "outputs": [
    {
     "data": {
      "text/plain": [
       "'aayush prasad'"
      ]
     },
     "execution_count": 30,
     "metadata": {},
     "output_type": "execute_result"
    }
   ],
   "source": [
    "s[:100]"
   ]
  },
  {
   "cell_type": "code",
   "execution_count": 31,
   "id": "ea5960d5-a56b-4f6d-a427-e77401ba1c64",
   "metadata": {},
   "outputs": [
    {
     "data": {
      "text/plain": [
       "'aayush prasadaayush prasadaayush prasad'"
      ]
     },
     "execution_count": 31,
     "metadata": {},
     "output_type": "execute_result"
    }
   ],
   "source": [
    "s*3\n"
   ]
  },
  {
   "cell_type": "code",
   "execution_count": 32,
   "id": "75aeb696-e370-4261-a97e-e08e18d8f2ec",
   "metadata": {},
   "outputs": [
    {
     "data": {
      "text/plain": [
       "13"
      ]
     },
     "execution_count": 32,
     "metadata": {},
     "output_type": "execute_result"
    }
   ],
   "source": [
    "len(s)"
   ]
  },
  {
   "cell_type": "code",
   "execution_count": 33,
   "id": "daeb6122-3993-4a8a-bc64-5342f16abcfa",
   "metadata": {},
   "outputs": [
    {
     "data": {
      "text/plain": [
       "True"
      ]
     },
     "execution_count": 33,
     "metadata": {},
     "output_type": "execute_result"
    }
   ],
   "source": [
    "a=10\n",
    "b=10\n",
    "a is b"
   ]
  },
  {
   "cell_type": "code",
   "execution_count": 35,
   "id": "cb54e146-1cdb-4783-b43b-efe81be247f4",
   "metadata": {},
   "outputs": [
    {
     "data": {
      "text/plain": [
       "140721100010696"
      ]
     },
     "execution_count": 35,
     "metadata": {},
     "output_type": "execute_result"
    }
   ],
   "source": [
    "id(a)"
   ]
  },
  {
   "cell_type": "code",
   "execution_count": 36,
   "id": "fd676c5a-888c-461a-bae1-e50c4106f8a9",
   "metadata": {},
   "outputs": [
    {
     "data": {
      "text/plain": [
       "140721100010696"
      ]
     },
     "execution_count": 36,
     "metadata": {},
     "output_type": "execute_result"
    }
   ],
   "source": [
    "id(b)"
   ]
  },
  {
   "cell_type": "code",
   "execution_count": 39,
   "id": "228d4f63-c7c4-4397-8da4-4394b5310f5d",
   "metadata": {},
   "outputs": [
    {
     "data": {
      "text/plain": [
       "range(10, 40)"
      ]
     },
     "execution_count": 39,
     "metadata": {},
     "output_type": "execute_result"
    }
   ],
   "source": [
    "# Range DATA type\n",
    "# range()\n",
    "\n",
    "range(10,40) # start from 10 and value is less then 40\n"
   ]
  },
  {
   "cell_type": "code",
   "execution_count": 40,
   "id": "713e636e-fc8e-48e1-b02d-6624623ee5ae",
   "metadata": {},
   "outputs": [
    {
     "name": "stdout",
     "output_type": "stream",
     "text": [
      "10\n",
      "12\n",
      "14\n",
      "16\n",
      "18\n",
      "20\n",
      "22\n",
      "24\n",
      "26\n",
      "28\n"
     ]
    }
   ],
   "source": [
    "for i in range(10,30,2):#starts from 10 with a gap of 2 in each value till value less then 30\n",
    "    print(i)"
   ]
  },
  {
   "cell_type": "code",
   "execution_count": 41,
   "id": "b6d98c0e-3a66-4c72-83ec-5caac4d78ebc",
   "metadata": {},
   "outputs": [
    {
     "name": "stdout",
     "output_type": "stream",
     "text": [
      "10\n",
      "11\n",
      "12\n",
      "13\n",
      "14\n",
      "15\n",
      "16\n",
      "17\n",
      "18\n",
      "19\n"
     ]
    }
   ],
   "source": [
    "for i in range(10,20):\n",
    "    print(i)"
   ]
  },
  {
   "cell_type": "code",
   "execution_count": 42,
   "id": "814dd2b2-f936-4faf-8fc9-8d56f1fa85af",
   "metadata": {},
   "outputs": [
    {
     "name": "stdout",
     "output_type": "stream",
     "text": [
      "ram\\inayodhya\n"
     ]
    }
   ],
   "source": [
    "x=\"ram\\inayodhya\"\n",
    "print(x)"
   ]
  },
  {
   "cell_type": "code",
   "execution_count": 43,
   "id": "ba967c26-6046-49fa-b108-3fccc39276a2",
   "metadata": {},
   "outputs": [
    {
     "name": "stdout",
     "output_type": "stream",
     "text": [
      "ram\n",
      "inayodhya\n"
     ]
    }
   ],
   "source": [
    "x=\"ram\\ninayodhya\"\n",
    "print(x)"
   ]
  },
  {
   "cell_type": "code",
   "execution_count": 44,
   "id": "0803eaca-f349-4b4e-ad3a-e9222525a257",
   "metadata": {},
   "outputs": [
    {
     "name": "stdout",
     "output_type": "stream",
     "text": [
      "ram\n",
      "in\tayodhya\n"
     ]
    }
   ],
   "source": [
    "x=\"ram\\nin\\tayodhya\"\n",
    "print(x)"
   ]
  },
  {
   "cell_type": "code",
   "execution_count": 46,
   "id": "382d0fd5-e7c0-418d-b44a-01eac83eb7ff",
   "metadata": {},
   "outputs": [
    {
     "name": "stdout",
     "output_type": "stream",
     "text": [
      "rainayodhya\n"
     ]
    }
   ],
   "source": [
    "x=\"ram\\binayodhya\"#\\b used to do one backspace\n",
    "print(x)"
   ]
  },
  {
   "cell_type": "code",
   "execution_count": 47,
   "id": "50eb1b90-3018-4b71-b2aa-2b5bea5bc714",
   "metadata": {},
   "outputs": [],
   "source": [
    "# #Operators:\n",
    "# 1. Arithmetic operators(+,-,*,/)\n",
    "# 2. relational Operators(<,>,<=,>=,==)\n",
    "# 3. Logical Operators(and, or, not)\n",
    "# 4. Assignment Operators(=)\n",
    "# 5. Special operators(is, is not)"
   ]
  },
  {
   "cell_type": "code",
   "execution_count": 48,
   "id": "d0af6c45-5bbe-4f03-b7e1-9f8a60d6f950",
   "metadata": {},
   "outputs": [
    {
     "name": "stdout",
     "output_type": "stream",
     "text": [
      "False\n"
     ]
    }
   ],
   "source": [
    "a='rama'\n",
    "b=\"rama\"\n",
    "print(a>b)"
   ]
  },
  {
   "cell_type": "code",
   "execution_count": 49,
   "id": "94851ac4-983e-46c3-8444-2b8681ae62b9",
   "metadata": {},
   "outputs": [
    {
     "name": "stdin",
     "output_type": "stream",
     "text": [
      "Number:  32\n",
      "String:  asfs\n"
     ]
    }
   ],
   "source": [
    "#input function, read data from user \n",
    "a=int(input(\"Number: \"))\n",
    "b=input(\"String: \")"
   ]
  },
  {
   "cell_type": "code",
   "execution_count": 50,
   "id": "7beb34fe-6320-4de3-b7b0-6f320684c809",
   "metadata": {},
   "outputs": [
    {
     "name": "stdout",
     "output_type": "stream",
     "text": [
      "True\n"
     ]
    }
   ],
   "source": [
    "i=2\n",
    "j=2\n",
    "p=True\n",
    "print(p is (i is j))"
   ]
  },
  {
   "cell_type": "code",
   "execution_count": 51,
   "id": "e0a02f96-705e-4b49-9e5b-95549bab2c56",
   "metadata": {},
   "outputs": [
    {
     "name": "stdout",
     "output_type": "stream",
     "text": [
      "True\n",
      "True\n",
      "False\n"
     ]
    }
   ],
   "source": [
    "line1=\"this is a line which needs to have a collection of words\"\n",
    "print('h' in line1)\n",
    "print('line' in line1)\n",
    "print('z' in line1)"
   ]
  },
  {
   "cell_type": "code",
   "execution_count": 52,
   "id": "2bae1d7e-84c1-4851-89e3-2659c9a70f91",
   "metadata": {},
   "outputs": [],
   "source": [
    "#math: is module: set math functions\n",
    "import math as mt"
   ]
  },
  {
   "cell_type": "code",
   "execution_count": 53,
   "id": "c92da631-54cc-46f3-a5e0-cd82cb15a7ca",
   "metadata": {},
   "outputs": [
    {
     "name": "stdout",
     "output_type": "stream",
     "text": [
      "2.0\n"
     ]
    }
   ],
   "source": [
    "print(mt.sqrt(4))"
   ]
  },
  {
   "cell_type": "code",
   "execution_count": 56,
   "id": "8902ef41-ebfd-435b-88f7-5aba9b6ef141",
   "metadata": {},
   "outputs": [],
   "source": [
    "# list of math functions of math module \n",
    "# ceil(x), floor(x), pow(x,y), factorial(x), sin(x)..."
   ]
  },
  {
   "cell_type": "code",
   "execution_count": 57,
   "id": "70efed7a-d1cb-487b-ba0e-06bd219c953c",
   "metadata": {},
   "outputs": [
    {
     "name": "stdin",
     "output_type": "stream",
     "text": [
      "enter name:  aayush\n"
     ]
    },
    {
     "name": "stdout",
     "output_type": "stream",
     "text": [
      "hi aayush\n",
      "code end\n"
     ]
    }
   ],
   "source": [
    "name=input(\"enter name: \")\n",
    "if name=='aayush':\n",
    "    print('hi aayush')\n",
    "print('code end')"
   ]
  },
  {
   "cell_type": "code",
   "execution_count": 58,
   "id": "fde84ea1-8bdb-42a0-a8a8-ddc97797cad3",
   "metadata": {},
   "outputs": [
    {
     "name": "stdin",
     "output_type": "stream",
     "text": [
      "enter name:  aayush1\n"
     ]
    },
    {
     "name": "stdout",
     "output_type": "stream",
     "text": [
      "code end\n"
     ]
    }
   ],
   "source": [
    "name=input(\"enter name: \")\n",
    "if name=='aayush':\n",
    "    print('hi aayush')\n",
    "else:\n",
    "    print('code end')"
   ]
  },
  {
   "cell_type": "code",
   "execution_count": 59,
   "id": "15a6e81d-42e4-4187-9382-237a15c1a804",
   "metadata": {},
   "outputs": [],
   "source": [
    "#in python there is no switch case"
   ]
  },
  {
   "cell_type": "code",
   "execution_count": 61,
   "id": "eafbfeed-f638-4ac7-9bcf-6bbe5fba5941",
   "metadata": {},
   "outputs": [
    {
     "name": "stdin",
     "output_type": "stream",
     "text": [
      "number 1: 12\n",
      "number 2: 13\n",
      "number 3: 14\n"
     ]
    },
    {
     "name": "stdout",
     "output_type": "stream",
     "text": [
      "number 3 is largest: 14\n"
     ]
    }
   ],
   "source": [
    "num1=int(input(\"number 1:\"))\n",
    "num2=int(input(\"number 2:\"))\n",
    "num3=int(input(\"number 3:\"))\n",
    "if num1>num2 and num1>num3:\n",
    "    print(\"number 1 is largest:\",num1)\n",
    "elif num2>num3 and num2>num3:\n",
    "    print(\"number 2 is largest:\",num2)\n",
    "else:\n",
    "    print(\"number 3 is largest:\",num3)"
   ]
  },
  {
   "cell_type": "code",
   "execution_count": 62,
   "id": "798f9437-9b6e-43f8-90fe-d75228fbb33f",
   "metadata": {},
   "outputs": [
    {
     "name": "stdout",
     "output_type": "stream",
     "text": [
      "index value 0 : a\n",
      "index value 1 : l\n",
      "index value 2 : l\n",
      "index value 3 :  \n",
      "index value 4 : i\n",
      "index value 5 : s\n",
      "index value 6 :  \n",
      "index value 7 : g\n",
      "index value 8 : o\n",
      "index value 9 : i\n",
      "index value 10 : n\n",
      "index value 11 : g\n",
      "index value 12 :  \n",
      "index value 13 : w\n",
      "index value 14 : e\n",
      "index value 15 : l\n",
      "index value 16 : l\n"
     ]
    }
   ],
   "source": [
    "a=\"all is going well\"\n",
    "for i in range(len(a)):\n",
    "    print(f\"index value {i} : {a[i]}\")"
   ]
  },
  {
   "cell_type": "code",
   "execution_count": 63,
   "id": "60c1179f-eaf1-4579-985b-b56268161bf4",
   "metadata": {},
   "outputs": [
    {
     "name": "stdout",
     "output_type": "stream",
     "text": [
      "hello\n",
      "hello\n",
      "hello\n",
      "hello\n",
      "hello\n",
      "hello\n",
      "hello\n",
      "hello\n",
      "hello\n",
      "hello\n",
      "\n"
     ]
    }
   ],
   "source": [
    "print(\"hello\\n\"*10)"
   ]
  },
  {
   "cell_type": "code",
   "execution_count": 64,
   "id": "f9f7943c-d3f2-4516-9b6e-fd6fd45f70ba",
   "metadata": {},
   "outputs": [
    {
     "name": "stdout",
     "output_type": "stream",
     "text": [
      "0\n",
      "1\n",
      "2\n",
      "3\n",
      "4\n",
      "5\n",
      "6\n",
      "7\n",
      "8\n",
      "9\n",
      "10\n"
     ]
    }
   ],
   "source": [
    "for i in range(11):\n",
    "    print(i)"
   ]
  },
  {
   "cell_type": "code",
   "execution_count": 66,
   "id": "97180d73-0279-499d-9e0e-581963901032",
   "metadata": {},
   "outputs": [
    {
     "name": "stdout",
     "output_type": "stream",
     "text": [
      "1\n",
      "3\n",
      "5\n",
      "7\n",
      "9\n",
      "11\n",
      "13\n",
      "15\n",
      "17\n",
      "19\n",
      "mehod 2\n",
      "1\n",
      "3\n",
      "5\n",
      "7\n",
      "9\n",
      "11\n",
      "13\n",
      "15\n",
      "17\n",
      "19\n"
     ]
    }
   ],
   "source": [
    "for i in range(20):\n",
    "    if i%2==1:\n",
    "        print(i)\n",
    "print (\"mehod 2\")\n",
    "for i in range(1,20,2):\n",
    "    print(i)\n"
   ]
  },
  {
   "cell_type": "code",
   "execution_count": 67,
   "id": "d6436fbf-b46c-431c-8949-0d860742f95a",
   "metadata": {},
   "outputs": [
    {
     "name": "stdin",
     "output_type": "stream",
     "text": [
      " ha\n",
      " nama\n",
      " rama\n"
     ]
    }
   ],
   "source": [
    "name=''\n",
    "while name!='rama':\n",
    "    name=input()\n",
    "    "
   ]
  },
  {
   "cell_type": "code",
   "execution_count": 68,
   "id": "8da0daec-cfb0-408d-ad35-0944f24766d3",
   "metadata": {},
   "outputs": [
    {
     "name": "stdout",
     "output_type": "stream",
     "text": [
      "0, 0\n",
      "0, 1\n",
      "0, 2\n",
      "0, 3\n",
      "0, 4\n",
      "1, 0\n",
      "1, 1\n",
      "1, 2\n",
      "1, 3\n",
      "1, 4\n",
      "2, 0\n",
      "2, 1\n",
      "2, 2\n",
      "2, 3\n",
      "2, 4\n",
      "3, 0\n",
      "3, 1\n",
      "3, 2\n",
      "3, 3\n",
      "3, 4\n",
      "4, 0\n",
      "4, 1\n",
      "4, 2\n",
      "4, 3\n",
      "4, 4\n"
     ]
    }
   ],
   "source": [
    "for i in range(5):\n",
    "    for j in range(5):\n",
    "        print(f\"{i}, {j}\")"
   ]
  },
  {
   "cell_type": "code",
   "execution_count": 73,
   "id": "fc6e9884-cce9-4f84-87d4-8e7f971c41b8",
   "metadata": {},
   "outputs": [
    {
     "name": "stdout",
     "output_type": "stream",
     "text": [
      "* \n",
      "* * \n",
      "* * * \n",
      "* * * * \n",
      "* * * * * \n",
      "* * * * * * \n",
      "* * * * * * * \n",
      "* * * * * * * * \n",
      "* * * * * * * * * \n"
     ]
    }
   ],
   "source": [
    "for i in range(1,10):\n",
    "    for j in range(i):\n",
    "        print('* ',end='')\n",
    "    print()"
   ]
  },
  {
   "cell_type": "code",
   "execution_count": 76,
   "id": "be5df095-010b-498c-95ae-e4f9afd2c202",
   "metadata": {},
   "outputs": [
    {
     "name": "stdin",
     "output_type": "stream",
     "text": [
      " 10 30 53 540 2\n"
     ]
    },
    {
     "name": "stdout",
     "output_type": "stream",
     "text": [
      "10\n",
      "30\n",
      "53\n",
      "insurance is required for this item \n"
     ]
    }
   ],
   "source": [
    "cart = list(map(int,input().split()))\n",
    "for item in cart:\n",
    "    if item>500:\n",
    "        print(\"insurance is required for this item \")\n",
    "        break\n",
    "    print(item)\n",
    "    "
   ]
  },
  {
   "cell_type": "code",
   "execution_count": 77,
   "id": "bb989b66-cd95-41ed-b34d-9e99393a9e99",
   "metadata": {},
   "outputs": [
    {
     "name": "stdout",
     "output_type": "stream",
     "text": [
      "1\n",
      "3\n",
      "5\n",
      "7\n",
      "9\n"
     ]
    }
   ],
   "source": [
    "for i in range(10):\n",
    "    if i%2==0:\n",
    "        continue\n",
    "    print(i)"
   ]
  },
  {
   "cell_type": "code",
   "execution_count": 79,
   "id": "e8844508-639b-4994-a139-5332df4b9551",
   "metadata": {},
   "outputs": [
    {
     "name": "stdin",
     "output_type": "stream",
     "text": [
      " 41 23 321 345 693 342 599 500 505\n"
     ]
    },
    {
     "name": "stdout",
     "output_type": "stream",
     "text": [
      "41\n",
      "23\n",
      "321\n",
      "345\n",
      "insurance is required for this item:  693\n",
      "342\n",
      "insurance is required for this item:  599\n",
      "500\n",
      "insurance is required for this item:  505\n"
     ]
    }
   ],
   "source": [
    "cart = list(map(int,input().split()))\n",
    "for item in cart:\n",
    "    if item>500:\n",
    "        print(\"insurance is required for this item: \",item)\n",
    "        continue\n",
    "    print(item)\n",
    "    "
   ]
  },
  {
   "cell_type": "code",
   "execution_count": 80,
   "id": "0e7d68ce-9a53-48c1-840b-e33c1d6f320e",
   "metadata": {},
   "outputs": [],
   "source": [
    "# pass statement:\n",
    "# pass is keyword in python it is like abstract function in java where we declare function in parent and creats its working in child class"
   ]
  },
  {
   "cell_type": "code",
   "execution_count": 81,
   "id": "a47455d1-4e33-466b-9cc8-57b2a555d253",
   "metadata": {},
   "outputs": [
    {
     "name": "stdout",
     "output_type": "stream",
     "text": [
      "0\n",
      "9\n",
      "18\n",
      "27\n",
      "36\n",
      "45\n",
      "54\n",
      "63\n",
      "72\n",
      "81\n",
      "90\n",
      "99\n"
     ]
    }
   ],
   "source": [
    "for i in range(100):\n",
    "    if i%9==0:\n",
    "        print(i)\n",
    "    else:pass"
   ]
  },
  {
   "cell_type": "code",
   "execution_count": null,
   "id": "efb76144-603e-4049-ae93-3ce3e7be48f1",
   "metadata": {},
   "outputs": [],
   "source": []
  }
 ],
 "metadata": {
  "kernelspec": {
   "display_name": "Python 3 (ipykernel)",
   "language": "python",
   "name": "python3"
  },
  "language_info": {
   "codemirror_mode": {
    "name": "ipython",
    "version": 3
   },
   "file_extension": ".py",
   "mimetype": "text/x-python",
   "name": "python",
   "nbconvert_exporter": "python",
   "pygments_lexer": "ipython3",
   "version": "3.13.5"
  }
 },
 "nbformat": 4,
 "nbformat_minor": 5
}
