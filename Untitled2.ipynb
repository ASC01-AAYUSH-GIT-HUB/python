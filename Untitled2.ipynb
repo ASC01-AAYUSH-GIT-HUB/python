{
 "cells": [
  {
   "cell_type": "code",
   "execution_count": 1,
   "id": "36058512-e3af-4126-8206-50ad3b1cc82d",
   "metadata": {},
   "outputs": [
    {
     "name": "stdout",
     "output_type": "stream",
     "text": [
      "red\n"
     ]
    }
   ],
   "source": [
    "myxyz=(\"red\",'blue','green')\n",
    "myabc=iter(myxyz)\n",
    "print(next(myabc))"
   ]
  },
  {
   "cell_type": "code",
   "execution_count": 2,
   "id": "a2e9f547-96dd-43ee-a08e-d7ff86280b0a",
   "metadata": {},
   "outputs": [
    {
     "name": "stdout",
     "output_type": "stream",
     "text": [
      "blue\n"
     ]
    }
   ],
   "source": [
    "print(next(myabc))"
   ]
  },
  {
   "cell_type": "code",
   "execution_count": 3,
   "id": "b4159cc6-9ffb-4e72-9d28-9a6be6e4f748",
   "metadata": {},
   "outputs": [
    {
     "name": "stdout",
     "output_type": "stream",
     "text": [
      "green\n"
     ]
    }
   ],
   "source": [
    "print(next(myabc))"
   ]
  },
  {
   "cell_type": "code",
   "execution_count": 4,
   "id": "fa9a6e11-0680-47ca-8b27-d15e1e2a23d3",
   "metadata": {},
   "outputs": [
    {
     "name": "stdout",
     "output_type": "stream",
     "text": [
      "False\n"
     ]
    }
   ],
   "source": [
    "print(min(max(False,-3,-4), 2,7))"
   ]
  },
  {
   "cell_type": "code",
   "execution_count": 5,
   "id": "d3d83e21-4386-448e-ba78-2b888dcfe2f8",
   "metadata": {},
   "outputs": [
    {
     "ename": "NameError",
     "evalue": "name 'math' is not defined",
     "output_type": "error",
     "traceback": [
      "\u001b[1;31m---------------------------------------------------------------------------\u001b[0m",
      "\u001b[1;31mNameError\u001b[0m                                 Traceback (most recent call last)",
      "Cell \u001b[1;32mIn[5], line 1\u001b[0m\n\u001b[1;32m----> 1\u001b[0m \u001b[38;5;28mprint\u001b[39m(math\u001b[38;5;241m.\u001b[39mpow(\u001b[38;5;241m3\u001b[39m, \u001b[38;5;241m2\u001b[39m))\n",
      "\u001b[1;31mNameError\u001b[0m: name 'math' is not defined"
     ]
    }
   ],
   "source": [
    "print(math.pow(3, 2))"
   ]
  },
  {
   "cell_type": "code",
   "execution_count": null,
   "id": "7aa686e0-08f8-480c-80b3-8dc58b9f4249",
   "metadata": {},
   "outputs": [],
   "source": []
  }
 ],
 "metadata": {
  "kernelspec": {
   "display_name": "Python [conda env:base] *",
   "language": "python",
   "name": "conda-base-py"
  },
  "language_info": {
   "codemirror_mode": {
    "name": "ipython",
    "version": 3
   },
   "file_extension": ".py",
   "mimetype": "text/x-python",
   "name": "python",
   "nbconvert_exporter": "python",
   "pygments_lexer": "ipython3",
   "version": "3.13.5"
  }
 },
 "nbformat": 4,
 "nbformat_minor": 5
}
