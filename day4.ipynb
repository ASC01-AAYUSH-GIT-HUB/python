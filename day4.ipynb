{
 "cells": [
  {
   "cell_type": "code",
   "execution_count": 52,
   "id": "2188a3fe-ac8e-4245-adfe-b201705265f8",
   "metadata": {},
   "outputs": [],
   "source": [
    "f=open(\"C:/Users/Ascendion/Desktop/python_notes/pyth.txt\",\"w\")"
   ]
  },
  {
   "cell_type": "code",
   "execution_count": 2,
   "id": "741e06d4-7ee8-4940-ae0c-b2dfed73b49a",
   "metadata": {},
   "outputs": [
    {
     "name": "stdout",
     "output_type": "stream",
     "text": [
      "C:/Users/Ascendion/Desktop/python_notes/pyth.txt\n"
     ]
    }
   ],
   "source": [
    "print(f.name)"
   ]
  },
  {
   "cell_type": "code",
   "execution_count": 3,
   "id": "25a406a1-88f8-460c-a1f9-a882d162dbf4",
   "metadata": {},
   "outputs": [
    {
     "name": "stdout",
     "output_type": "stream",
     "text": [
      "w\n"
     ]
    }
   ],
   "source": [
    "print(f.mode)"
   ]
  },
  {
   "cell_type": "code",
   "execution_count": 5,
   "id": "8649132e-7f74-4035-8d49-e2060d900be9",
   "metadata": {},
   "outputs": [
    {
     "name": "stdout",
     "output_type": "stream",
     "text": [
      "False\n"
     ]
    }
   ],
   "source": [
    "print(f.readable())"
   ]
  },
  {
   "cell_type": "code",
   "execution_count": 6,
   "id": "9a8baca6-1295-43de-a7ec-1dee35cd29f6",
   "metadata": {},
   "outputs": [
    {
     "name": "stdout",
     "output_type": "stream",
     "text": [
      "True\n"
     ]
    }
   ],
   "source": [
    "print(f.writable())"
   ]
  },
  {
   "cell_type": "code",
   "execution_count": 53,
   "id": "05e9920f-e05b-4d69-aa33-8929d26692b7",
   "metadata": {},
   "outputs": [],
   "source": [
    "f.write(\"good boy\\n\")\n",
    "f.write(\"bhai likh bhi de\")\n",
    "f.close()"
   ]
  },
  {
   "cell_type": "code",
   "execution_count": 57,
   "id": "e60efa92-1db0-4da3-8c6e-fc01805fab58",
   "metadata": {},
   "outputs": [],
   "source": [
    "f=open(\"C:/Users/Ascendion/Desktop/python_notes/pyth.txt\",\"a\")"
   ]
  },
  {
   "cell_type": "code",
   "execution_count": 58,
   "id": "1b9a6646-0a38-4f63-9077-f605430cdb15",
   "metadata": {},
   "outputs": [],
   "source": [
    "x=[\"ram\\n\",\"laxman\\n\",\"sita\"]\n",
    "f.writelines(x)\n",
    "f.close()"
   ]
  },
  {
   "cell_type": "code",
   "execution_count": 69,
   "id": "0e3cdf35-e9cf-47bc-b21d-0b81918c85b9",
   "metadata": {},
   "outputs": [],
   "source": [
    "f=open(\"C:/Users/Ascendion/Desktop/python_notes/pyth.txt\",\"r\")"
   ]
  },
  {
   "cell_type": "code",
   "execution_count": 70,
   "id": "dbc9311d-e97e-4f75-9c83-52e2dcf959e6",
   "metadata": {},
   "outputs": [
    {
     "name": "stdout",
     "output_type": "stream",
     "text": [
      "good boy\n",
      "bhai likh bhi deram\n",
      "laxman\n",
      "sita\n"
     ]
    }
   ],
   "source": [
    "data=f.read()\n",
    "print(data)"
   ]
  },
  {
   "cell_type": "code",
   "execution_count": 72,
   "id": "40abcff9-0063-49ba-83a2-768c4419151f",
   "metadata": {},
   "outputs": [
    {
     "name": "stdout",
     "output_type": "stream",
     "text": [
      "[]\n"
     ]
    }
   ],
   "source": [
    "data=f.readlines()\n",
    "print(data)"
   ]
  },
  {
   "cell_type": "code",
   "execution_count": 67,
   "id": "143ad30d-4ef3-42d6-8fd0-a3064f6fe594",
   "metadata": {},
   "outputs": [],
   "source": [
    "f.close()"
   ]
  },
  {
   "cell_type": "code",
   "execution_count": 23,
   "id": "99fc839a-af44-45d0-8501-e31f1617704d",
   "metadata": {},
   "outputs": [
    {
     "name": "stdout",
     "output_type": "stream",
     "text": [
      "file closed: False\n",
      "file closed: True\n"
     ]
    }
   ],
   "source": [
    "# with oppration\n",
    "with open(\"C:/Users/Ascendion/Desktop/python_notes/pyth.txt\",\"w\") as f:#this will atometicaly close the file\n",
    "    f.write(\"hi ram\\n\")\n",
    "    print(\"file closed:\",f.closed)\n",
    "print(\"file closed:\",f.closed)"
   ]
  },
  {
   "cell_type": "code",
   "execution_count": 32,
   "id": "82c496cd-bc33-4f90-8833-ff10da48cb5a",
   "metadata": {},
   "outputs": [],
   "source": [
    "f=open(\"C:/Users/Ascendion/Desktop/python_notes/pyth.txt\",\"r\")"
   ]
  },
  {
   "cell_type": "code",
   "execution_count": 25,
   "id": "483653d1-8cce-4e83-8972-ea7036d7b0be",
   "metadata": {},
   "outputs": [
    {
     "data": {
      "text/plain": [
       "0"
      ]
     },
     "execution_count": 25,
     "metadata": {},
     "output_type": "execute_result"
    }
   ],
   "source": [
    "f.tell()"
   ]
  },
  {
   "cell_type": "code",
   "execution_count": 26,
   "id": "50a4f602-bbe7-47ee-b148-308ac3d073f9",
   "metadata": {},
   "outputs": [
    {
     "data": {
      "text/plain": [
       "'hi'"
      ]
     },
     "execution_count": 26,
     "metadata": {},
     "output_type": "execute_result"
    }
   ],
   "source": [
    "f.read(2)"
   ]
  },
  {
   "cell_type": "code",
   "execution_count": 27,
   "id": "b6da4ec2-24e1-4a4d-af46-64686c44f47b",
   "metadata": {},
   "outputs": [
    {
     "data": {
      "text/plain": [
       "' '"
      ]
     },
     "execution_count": 27,
     "metadata": {},
     "output_type": "execute_result"
    }
   ],
   "source": [
    "f.read(1)"
   ]
  },
  {
   "cell_type": "code",
   "execution_count": 28,
   "id": "717e20e2-2290-43de-bab5-7b1e34fc60a6",
   "metadata": {},
   "outputs": [
    {
     "data": {
      "text/plain": [
       "'ram\\n'"
      ]
     },
     "execution_count": 28,
     "metadata": {},
     "output_type": "execute_result"
    }
   ],
   "source": [
    "f.read(4)"
   ]
  },
  {
   "cell_type": "code",
   "execution_count": 29,
   "id": "24ba2f83-33d0-4d2a-8038-c16b6e19ee3f",
   "metadata": {},
   "outputs": [
    {
     "data": {
      "text/plain": [
       "''"
      ]
     },
     "execution_count": 29,
     "metadata": {},
     "output_type": "execute_result"
    }
   ],
   "source": [
    "f.read(3)"
   ]
  },
  {
   "cell_type": "code",
   "execution_count": 33,
   "id": "68318fd9-ec09-4c26-a505-b9c12d777d88",
   "metadata": {},
   "outputs": [
    {
     "data": {
      "text/plain": [
       "'hi'"
      ]
     },
     "execution_count": 33,
     "metadata": {},
     "output_type": "execute_result"
    }
   ],
   "source": [
    "f.read(2)"
   ]
  },
  {
   "cell_type": "code",
   "execution_count": 34,
   "id": "07fdb046-ad8e-470b-8197-c7c46b876592",
   "metadata": {},
   "outputs": [
    {
     "data": {
      "text/plain": [
       "2"
      ]
     },
     "execution_count": 34,
     "metadata": {},
     "output_type": "execute_result"
    }
   ],
   "source": [
    "f.tell()"
   ]
  },
  {
   "cell_type": "code",
   "execution_count": 36,
   "id": "5982a9a7-6064-44d7-b3ea-485e4f69dcd3",
   "metadata": {},
   "outputs": [
    {
     "name": "stdout",
     "output_type": "stream",
     "text": [
      "hi ram\n",
      "\n"
     ]
    }
   ],
   "source": [
    "try:\n",
    "    f=open(\"C:/Users/Ascendion/Desktop/python_notes/pyth.txt\",\"r\")\n",
    "    data=f.read()\n",
    "    print(data)\n",
    "    f.close()\n",
    "except:\n",
    "    print(\"file not exist\")\n",
    "    "
   ]
  },
  {
   "cell_type": "code",
   "execution_count": 40,
   "id": "a7919efe-e0cc-41eb-87bf-f39d7ba4094b",
   "metadata": {},
   "outputs": [
    {
     "name": "stdin",
     "output_type": "stream",
     "text": [
      "Enter file name C:/Users/Ascendion/Desktop/python_notes/pyth.txt\n"
     ]
    },
    {
     "name": "stdout",
     "output_type": "stream",
     "text": [
      "file exist: C:/Users/Ascendion/Desktop/python_notes/pyth.txt\n",
      "the content in file is :\n",
      "hi ram\n",
      "\n"
     ]
    }
   ],
   "source": [
    "import os,sys\n",
    "fname=input(\"Enter file name\")\n",
    "if os.path.isfile(fname):\n",
    "    print(\"file exist:\",fname)\n",
    "    f=open(fname,\"r\")\n",
    "else:\n",
    "    print(\"file not exist\")\n",
    "    sys.exit(0)\n",
    "print('the content in file is :')\n",
    "data=f.read()\n",
    "print(data)"
   ]
  },
  {
   "cell_type": "code",
   "execution_count": 48,
   "id": "aed2016b-0e54-4471-b845-516027000271",
   "metadata": {},
   "outputs": [
    {
     "name": "stdin",
     "output_type": "stream",
     "text": [
      " C:/Users/Ascendion/Desktop/python_notes/pyth.txt\n"
     ]
    },
    {
     "name": "stdout",
     "output_type": "stream",
     "text": [
      "file exist: C:/Users/Ascendion/Desktop/python_notes/pyth.txt\n",
      "the content in file is :\n",
      "25 0 []\n"
     ]
    }
   ],
   "source": [
    "fname=input()\n",
    "if os.path.isfile(fname):\n",
    "    print(\"file exist:\",fname)\n",
    "    f=open(fname,\"r\")\n",
    "else:\n",
    "    print(\"file not exist\")\n",
    "    sys.exit(0)\n",
    "print('the content in file is :')\n",
    "data=f.read()\n",
    "words=len(data)\n",
    "data1=f.readlines()\n",
    "lines=len(data1)\n",
    "print(words,lines,data1)\n"
   ]
  },
  {
   "cell_type": "code",
   "execution_count": 73,
   "id": "efb461a7-aac8-4bbd-b8c3-dc82bf278bd2",
   "metadata": {},
   "outputs": [],
   "source": [
    "#writing data to csv file\n",
    "import csv\n",
    "with open(\"emp.csv\",\"w\",newline='') as f:\n",
    "    w=csv.writer(f)\n",
    "    w.writerow(['ENO','EMAIL','ESAL'])"
   ]
  },
  {
   "cell_type": "code",
   "execution_count": 74,
   "id": "d3704843-54d1-4cc7-836a-9e6f9a8185fb",
   "metadata": {},
   "outputs": [
    {
     "ename": "NameError",
     "evalue": "name 'math' is not defined",
     "output_type": "error",
     "traceback": [
      "\u001b[1;31m---------------------------------------------------------------------------\u001b[0m",
      "\u001b[1;31mNameError\u001b[0m                                 Traceback (most recent call last)",
      "Cell \u001b[1;32mIn[74], line 1\u001b[0m\n\u001b[1;32m----> 1\u001b[0m \u001b[38;5;28mprint\u001b[39m(math\u001b[38;5;241m.\u001b[39mpow(\u001b[38;5;241m3\u001b[39m, \u001b[38;5;241m2\u001b[39m))\n",
      "\u001b[1;31mNameError\u001b[0m: name 'math' is not defined"
     ]
    }
   ],
   "source": [
    "print(math.pow(3, 2))"
   ]
  },
  {
   "cell_type": "code",
   "execution_count": null,
   "id": "d61109b3-9bef-4082-8ced-3029f754cb13",
   "metadata": {},
   "outputs": [],
   "source": []
  }
 ],
 "metadata": {
  "kernelspec": {
   "display_name": "Python [conda env:base] *",
   "language": "python",
   "name": "conda-base-py"
  },
  "language_info": {
   "codemirror_mode": {
    "name": "ipython",
    "version": 3
   },
   "file_extension": ".py",
   "mimetype": "text/x-python",
   "name": "python",
   "nbconvert_exporter": "python",
   "pygments_lexer": "ipython3",
   "version": "3.13.5"
  }
 },
 "nbformat": 4,
 "nbformat_minor": 5
}
